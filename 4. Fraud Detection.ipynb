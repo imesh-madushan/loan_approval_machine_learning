{
 "cells": [
  {
   "cell_type": "markdown",
   "metadata": {},
   "source": [
    "# 4. Fraud Detection (K-mean)"
   ]
  },
  {
   "cell_type": "code",
   "execution_count": 15,
   "metadata": {},
   "outputs": [],
   "source": [
    "import pandas as pd\n",
    "import matplotlib.pyplot as plt\n",
    "import seaborn as sns\n",
    "import numpy as np\n",
    "import warnings\n",
    "warnings.filterwarnings('ignore')\n",
    "\n",
    "from sklearn.model_selection import train_test_split\n",
    "from sklearn.metrics import accuracy_score, classification_report, confusion_matrix, roc_curve, roc_auc_score, r2_score, mean_squared_error\n",
    "from sklearn.preprocessing import StandardScaler\n",
    "from sklearn.cluster import KMeans\n"
   ]
  },
  {
   "cell_type": "code",
   "execution_count": 16,
   "metadata": {},
   "outputs": [
    {
     "data": {
      "text/html": [
       "<div>\n",
       "<style scoped>\n",
       "    .dataframe tbody tr th:only-of-type {\n",
       "        vertical-align: middle;\n",
       "    }\n",
       "\n",
       "    .dataframe tbody tr th {\n",
       "        vertical-align: top;\n",
       "    }\n",
       "\n",
       "    .dataframe thead th {\n",
       "        text-align: right;\n",
       "    }\n",
       "</style>\n",
       "<table border=\"1\" class=\"dataframe\">\n",
       "  <thead>\n",
       "    <tr style=\"text-align: right;\">\n",
       "      <th></th>\n",
       "      <th>no_of_dependents</th>\n",
       "      <th>education</th>\n",
       "      <th>self_employed</th>\n",
       "      <th>income_annum</th>\n",
       "      <th>loan_amount</th>\n",
       "      <th>loan_term</th>\n",
       "      <th>cibil_score</th>\n",
       "      <th>assets</th>\n",
       "      <th>loan_status</th>\n",
       "    </tr>\n",
       "  </thead>\n",
       "  <tbody>\n",
       "    <tr>\n",
       "      <th>0</th>\n",
       "      <td>2</td>\n",
       "      <td>1</td>\n",
       "      <td>0</td>\n",
       "      <td>9600000</td>\n",
       "      <td>29900000</td>\n",
       "      <td>12</td>\n",
       "      <td>778</td>\n",
       "      <td>50700000</td>\n",
       "      <td>1</td>\n",
       "    </tr>\n",
       "    <tr>\n",
       "      <th>1</th>\n",
       "      <td>0</td>\n",
       "      <td>0</td>\n",
       "      <td>1</td>\n",
       "      <td>4100000</td>\n",
       "      <td>12200000</td>\n",
       "      <td>8</td>\n",
       "      <td>417</td>\n",
       "      <td>17000000</td>\n",
       "      <td>0</td>\n",
       "    </tr>\n",
       "    <tr>\n",
       "      <th>2</th>\n",
       "      <td>3</td>\n",
       "      <td>1</td>\n",
       "      <td>0</td>\n",
       "      <td>9100000</td>\n",
       "      <td>29700000</td>\n",
       "      <td>20</td>\n",
       "      <td>506</td>\n",
       "      <td>57700000</td>\n",
       "      <td>0</td>\n",
       "    </tr>\n",
       "    <tr>\n",
       "      <th>3</th>\n",
       "      <td>3</td>\n",
       "      <td>1</td>\n",
       "      <td>0</td>\n",
       "      <td>8200000</td>\n",
       "      <td>30700000</td>\n",
       "      <td>8</td>\n",
       "      <td>467</td>\n",
       "      <td>52700000</td>\n",
       "      <td>0</td>\n",
       "    </tr>\n",
       "    <tr>\n",
       "      <th>4</th>\n",
       "      <td>5</td>\n",
       "      <td>0</td>\n",
       "      <td>1</td>\n",
       "      <td>9800000</td>\n",
       "      <td>24200000</td>\n",
       "      <td>20</td>\n",
       "      <td>382</td>\n",
       "      <td>55000000</td>\n",
       "      <td>0</td>\n",
       "    </tr>\n",
       "  </tbody>\n",
       "</table>\n",
       "</div>"
      ],
      "text/plain": [
       "   no_of_dependents  education  self_employed  income_annum  loan_amount  \\\n",
       "0                 2          1              0       9600000     29900000   \n",
       "1                 0          0              1       4100000     12200000   \n",
       "2                 3          1              0       9100000     29700000   \n",
       "3                 3          1              0       8200000     30700000   \n",
       "4                 5          0              1       9800000     24200000   \n",
       "\n",
       "   loan_term  cibil_score    assets  loan_status  \n",
       "0         12          778  50700000            1  \n",
       "1          8          417  17000000            0  \n",
       "2         20          506  57700000            0  \n",
       "3          8          467  52700000            0  \n",
       "4         20          382  55000000            0  "
      ]
     },
     "execution_count": 16,
     "metadata": {},
     "output_type": "execute_result"
    }
   ],
   "source": [
    "loandata = pd.DataFrame(pd.read_csv('cleaned_loan_data.csv'))\n",
    "loandata.head()"
   ]
  },
  {
   "cell_type": "markdown",
   "metadata": {},
   "source": [
    "# Train the Model"
   ]
  },
  {
   "cell_type": "code",
   "execution_count": 17,
   "metadata": {},
   "outputs": [],
   "source": [
    "# Select key features for fraud detection\n",
    "x = loandata[[\"income_annum\", \"loan_amount\", \"cibil_score\", \"assets\"]]\n",
    "\n",
    "# Standardize the data\n",
    "scaler = StandardScaler()\n",
    "x_scaled = scaler.fit_transform(x)"
   ]
  },
  {
   "cell_type": "code",
   "execution_count": 18,
   "metadata": {},
   "outputs": [],
   "source": [
    "# try to find the optimal number of clusters\n",
    "wcss = []\n",
    "k_values = range(1, 11)\n",
    "for k in k_values: \n",
    "    model_k = KMeans(n_clusters=k, random_state=42, n_init=10)\n",
    "    model_k.fit(x_scaled)\n",
    "    wcss.append(model_k.inertia_)"
   ]
  },
  {
   "cell_type": "code",
   "execution_count": 19,
   "metadata": {},
   "outputs": [
    {
     "data": {
      "image/png": "[encoded data removed]",
      "text/plain": [
       "<Figure size 800x500 with 1 Axes>"
      ]
     },
     "metadata": {},
     "output_type": "display_data"
    }
   ],
   "source": [
    "# Draw the Elbow to find the optimal number for K\n",
    "plt.figure(figsize=(8, 5))\n",
    "plt.plot(k_values, wcss, marker='o', linestyle='--')\n",
    "plt.xlabel('Number of Clusters (K)')\n",
    "plt.ylabel('WCSS')\n",
    "plt.title('Elbow Method')\n",
    "plt.show()"
   ]
  },
  {
   "cell_type": "code",
   "execution_count": 20,
   "metadata": {},
   "outputs": [],
   "source": [
    "# Apply K-Means Clustering\n",
    "model = KMeans(n_clusters=2, random_state=42, n_init=10)\n",
    "loandata[\"Cluster\"] = model.fit_predict(x_scaled)"
   ]
  },
  {
   "cell_type": "code",
   "execution_count": 32,
   "metadata": {},
   "outputs": [],
   "source": [
    "# Compute the distance of each point from its cluster center\n",
    "loandata[\"Dist_clu_cen\"] = np.linalg.norm(x_scaled - model.cluster_centers_[loandata[\"Cluster\"]], axis=1)\n",
    "\n",
    "# calculate the threshold (I will assume this bank counts top 6% farthest points as fraud points)\n",
    "# threshold is the distance of closest 95% of points to their cluster center\n",
    "threshold = np.percentile(loandata[\"Dist_clu_cen\"], 95)\n",
    "loandata[\"Fraud_Flag\"] = loandata[\"Dist_clu_cen\"] > threshold  # True = Potential Fraud\n",
    "\n",
    "threshold\n",
    "#save the threshold value\n",
    "np.save('frud_threshold.npy', threshold)"
   ]
  },
  {
   "cell_type": "code",
   "execution_count": 33,
   "metadata": {},
   "outputs": [
    {
     "name": "stdout",
     "output_type": "stream",
     "text": [
      "Potential Fraud Cases Detected: 214\n",
      "      income_annum  loan_amount  cibil_score    assets  Fraud_Flag\n",
      "5          4800000     13500000          319  33900000        True\n",
      "12         5000000     11600000          311  34900000        True\n",
      "29         9000000     31500000          850  75900000        True\n",
      "57         9300000     30500000          841  72900000        True\n",
      "95          300000      1100000          300   1700000        True\n",
      "...            ...          ...          ...       ...         ...\n",
      "4173       8800000     29800000          343  70400000        True\n",
      "4191       9900000     37300000          385  43100000        True\n",
      "4197       8600000     23200000          894  69700000        True\n",
      "4258       9700000     22600000          346  76200000        True\n",
      "4263       5000000     12700000          865  38600000        True\n",
      "\n",
      "[214 rows x 5 columns]\n"
     ]
    }
   ],
   "source": [
    "# Show fraud detection summary\n",
    "fraud_cases = loandata[loandata[\"Fraud_Flag\"] == True]\n",
    "print(f\"Potential Fraud Cases Detected: {len(fraud_cases)}\")\n",
    "print(fraud_cases[[\"income_annum\", \"loan_amount\", \"cibil_score\", \"assets\", \"Fraud_Flag\"]])"
   ]
  },
  {
   "cell_type": "code",
   "execution_count": null,
   "metadata": {},
   "outputs": [],
   "source": [
    "# Visualize fraud detection (scatter plot)\n",
    "plt.figure(figsize=(8,6))\n",
    "sns.scatterplot(x=loandata[\"income_annum\"], y=loandata[\"loan_amount\"], hue=loandata[\"Fraud_Flag\"], palette={True: \"red\", False: \"blue\"})\n",
    "plt.xlabel(\"Annual Income\")\n",
    "plt.ylabel(\"Loan Amount\")\n",
    "plt.title(\"Fraud Detection Based on Income vs Loan Amount\")\n",
    "plt.legend(title=\"Fraud Flag\")\n",
    "plt.show()"
   ]
  },
  {
   "cell_type": "code",
   "execution_count": null,
   "metadata": {},
   "outputs": [],
   "source": [
    "# Visualize fraud detection (scatter plot)\n",
    "plt.figure(figsize=(8,6))\n",
    "sns.scatterplot(x=loandata[\"loan_amount\"], y=loandata[\"cibil_score\"], hue=loandata[\"Fraud_Flag\"], palette={True: \"red\", False: \"blue\"})\n",
    "plt.xlabel(\"Loan Amount\")\n",
    "plt.ylabel(\"CIBIL Score\")\n",
    "plt.title(\"Fraud Detection Based on Loan Amount vs CIBIL Score\")\n",
    "plt.legend(title=\"Fraud Flag\")\n",
    "plt.show()"
   ]
  },
  {
   "cell_type": "code",
   "execution_count": null,
   "metadata": {},
   "outputs": [],
   "source": [
    "# Visualize fraud detection (scatter plot)\n",
    "plt.figure(figsize=(8,6))\n",
    "sns.scatterplot(x=loandata[\"assets\"], y=loandata[\"loan_amount\"], hue=loandata[\"Fraud_Flag\"], palette={True: \"red\", False: \"blue\"})\n",
    "plt.xlabel(\"Assets\")\n",
    "plt.ylabel(\"Loan Amount\")\n",
    "plt.title(\"Fraud Detection Based on Assets vs Loan Amount\")\n",
    "plt.legend(title=\"Fraud Flag\")\n",
    "plt.show()"
   ]
  },
  {
   "cell_type": "code",
   "execution_count": null,
   "metadata": {},
   "outputs": [],
   "source": [
    "# Do a test prediction\n",
    "test_data = [[100000, 50000, 600, 200000]]\n",
    "test_data_scaled = scaler.transform(test_data)\n",
    "\n",
    "test_cluster = model.predict(test_data_scaled)\n",
    "test_distance = np.linalg.norm(test_data_scaled - model.cluster_centers_[test_cluster])\n",
    "test_fraud = test_distance > threshold\n",
    "print(f\"Test Fraud: {test_fraud}\")"
   ]
  },
  {
   "cell_type": "markdown",
   "metadata": {},
   "source": [
    "# Build the Model"
   ]
  },
  {
   "cell_type": "code",
   "execution_count": null,
   "metadata": {},
   "outputs": [],
   "source": [
    "import pickle as pk\n",
    "pk.dump(model, open('model_4.pkl','wb'))\n",
    "pk.dump(scaler, open('scaler_4.pkl','wb'))"
   ]
  }
 ],
 "metadata": {
  "kernelspec": {
   "display_name": "Python 3",
   "language": "python",
   "name": "python3"
  },
  "language_info": {
   "codemirror_mode": {
    "name": "ipython",
    "version": 3
   },
   "file_extension": ".py",
   "mimetype": "text/x-python",
   "name": "python",
   "nbconvert_exporter": "python",
   "pygments_lexer": "ipython3",
   "version": "3.11.9"
  }
 },
 "nbformat": 4,
 "nbformat_minor": 2
}
